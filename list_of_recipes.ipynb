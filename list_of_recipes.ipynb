{
 "cells": [
  {
   "cell_type": "markdown",
   "metadata": {},
   "source": [
    "# This is code which will allow a search through a database of recipes"
   ]
  },
  {
   "cell_type": "code",
   "execution_count": 1,
   "metadata": {},
   "outputs": [],
   "source": [
    "# Import packages\n",
    "import pandas as pd\n",
    "import numpy as np"
   ]
  },
  {
   "cell_type": "code",
   "execution_count": 2,
   "metadata": {},
   "outputs": [
    {
     "name": "stdout",
     "output_type": "stream",
     "text": [
      "         recipe_name  meal_type recipe_link recipe_author\n",
      "0  Toast with butter  Breakfast         NaN           NaN\n",
      "1          Wheatabix  Breakfast         NaN           NaN\n",
      "2             Bakery  Breakfast         NaN           NaN\n",
      "3           Porridge  Breakfast         NaN           NaN\n",
      "4    Cheese on toast  Breakfast         NaN           NaN\n"
     ]
    }
   ],
   "source": [
    "# Read in the file witht the recipes info\n",
    "\n",
    "recipe_database = pd.read_csv('recipe_database.csv')\n",
    "\n",
    "# Clean the database to Capitalise only the first letter of each recipe\n",
    "\n",
    "recipe_database['recipe_name'] = recipe_database['recipe_name'].str.capitalize()\n",
    "\n",
    "# Add new records\n",
    "#recipe_database = pd.concat([recipe_database, pd.DataFrame({\n",
    "#    'recipe_name':['Tofu Banh Mi'],\n",
    "#    'meal_type':['dinner'],\n",
    "#    'recipe_link':['https://www.loveandlemons.com/banh-mi/#wprm-recipe-container-45320'],\n",
    "#    'recipe_author':['Love and lemons'],\n",
    "#    \n",
    "#})],ignore_index=True)\n",
    "\n",
    "# Save it back to the csv file\n",
    "recipe_database.to_csv('recipe_database.csv', index=False)\n",
    "\n",
    "# To view the updated DataFrame\n",
    "print(recipe_database.head())"
   ]
  },
  {
   "cell_type": "code",
   "execution_count": 3,
   "metadata": {},
   "outputs": [],
   "source": [
    "# Define the function to retrieve a random recipe for the specified meal type\n",
    "def get_random_recipe():\n",
    "    # Ask the user for input on meal type\n",
    "    meal_type = input(\"Please enter a meal type (Breakfast, Lunch, Dinner): \").capitalize()\n",
    "\n",
    "    # Filter the DataFrame based on the user's input\n",
    "    filtered_recipes = recipe_database[recipe_database['meal_type'] == meal_type]\n",
    "\n",
    "    # Check if any recipes are found for the given meal type\n",
    "    if not filtered_recipes.empty:\n",
    "        # Select a random recipe name from the filtered results\n",
    "        random_row = filtered_recipes.sample().iloc[0]\n",
    "        \n",
    "        recipe_name = random_row['recipe_name']\n",
    "        recipe_link = random_row['recipe_link']\n",
    "        recipe_author = random_row['recipe_author']\n",
    "        \n",
    "        print(f\"Here is a random {meal_type} recipe for you:\")\n",
    "        print(f\"Recipe name: {recipe_name}\")\n",
    "        print(f\"Recipe link: {recipe_link}\")\n",
    "        print(f\"Recipe author: {recipe_author}\")\n",
    "    else:\n",
    "        print(f\"Sorry, no recipes found for {meal_type}.\")"
   ]
  },
  {
   "cell_type": "code",
   "execution_count": 4,
   "metadata": {},
   "outputs": [
    {
     "name": "stdout",
     "output_type": "stream",
     "text": [
      "Here is a random Dinner recipe for you:\n",
      "Recipe name: Rice and peas with mint and sesame oil\n",
      "Recipe link: https://www.theguardian.com/food/2024/mar/30/meera-sodha-vegan-recipe-rice-and-peas-mint-sesame-oil-congee-risi-bisi\n",
      "Recipe author: Meera Sodha\n"
     ]
    }
   ],
   "source": [
    "get_random_recipe()"
   ]
  }
 ],
 "metadata": {
  "kernelspec": {
   "display_name": "Python 3",
   "language": "python",
   "name": "python3"
  },
  "language_info": {
   "codemirror_mode": {
    "name": "ipython",
    "version": 3
   },
   "file_extension": ".py",
   "mimetype": "text/x-python",
   "name": "python",
   "nbconvert_exporter": "python",
   "pygments_lexer": "ipython3",
   "version": "3.11.4"
  }
 },
 "nbformat": 4,
 "nbformat_minor": 2
}
